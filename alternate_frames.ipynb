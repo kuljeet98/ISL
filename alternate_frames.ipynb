{
  "nbformat": 4,
  "nbformat_minor": 0,
  "metadata": {
    "kernelspec": {
      "name": "python3",
      "display_name": "Python 3"
    },
    "language_info": {
      "codemirror_mode": {
        "name": "ipython",
        "version": 3
      },
      "file_extension": ".py",
      "mimetype": "text/x-python",
      "name": "python",
      "nbconvert_exporter": "python",
      "pygments_lexer": "ipython3",
      "version": "3.6.9"
    },
    "colab": {
      "name": "frames.ipynb",
      "provenance": []
    },
    "accelerator": "GPU"
  },
  "cells": [
    {
      "cell_type": "markdown",
      "metadata": {
        "id": "lDa0nm2ra2Cl",
        "colab_type": "text"
      },
      "source": [
        "#### Frame Alteration"
      ]
    },
    {
      "cell_type": "code",
      "metadata": {
        "id": "DN495DyGa2Cs",
        "colab_type": "code",
        "colab": {}
      },
      "source": [
        "# importing libraries\n",
        "import shutil\n",
        "import cv2\n",
        "import os"
      ],
      "execution_count": 0,
      "outputs": []
    },
    {
      "cell_type": "code",
      "metadata": {
        "id": "Be_S3zRCecln",
        "colab_type": "code",
        "colab": {}
      },
      "source": [
        "from google.colab import drive\n",
        "drive.mount('/content/drive')"
      ],
      "execution_count": 0,
      "outputs": []
    },
    {
      "cell_type": "code",
      "metadata": {
        "id": "NkM5mZsia2C2",
        "colab_type": "code",
        "colab": {}
      },
      "source": [
        "# to check the videos in the directory\n",
        "video=[]\n",
        "for i in os.listdir('/content/drive/My Drive/PROJECT_DATA/top_5_classes/thursday/'):\n",
        "        video.append(i)"
      ],
      "execution_count": 0,
      "outputs": []
    },
    {
      "cell_type": "code",
      "metadata": {
        "id": "nwd9PTHIa2C-",
        "colab_type": "code",
        "colab": {}
      },
      "source": [
        "len(video)"
      ],
      "execution_count": 0,
      "outputs": []
    },
    {
      "cell_type": "code",
      "metadata": {
        "id": "bSSglyNXa2DI",
        "colab_type": "code",
        "colab": {}
      },
      "source": [
        "# function to convert the videos to frames\n",
        "def evenframe(vp, ip):\n",
        "    cap= cv2.VideoCapture(vp)\n",
        "    i=1\n",
        "    while(cap.isOpened()):\n",
        "        ret, frame = cap.read()\n",
        "        if ret == False:\n",
        "            break\n",
        "        if i%2 == 0: # to pick even frames\n",
        "            cv2.imwrite(ip+'IMG_'+str(i)+'.jpg',frame)\n",
        "        i+=1\n",
        "    cap.release()\n",
        "    cv2.destroyAllWindows()\n",
        "    return\n",
        "def oddframe(video, folder):\n",
        "    cap= cv2.VideoCapture(video)\n",
        "    i=1\n",
        "    while(cap.isOpened()):\n",
        "        ret, frame = cap.read()\n",
        "        if ret == False:\n",
        "            break\n",
        "        if i%2 != 0: # to pick even frames\n",
        "            cv2.imwrite(folder+'IMG_'+str(i)+'.jpg',frame)\n",
        "        i+=1\n",
        "    cap.release()\n",
        "    cv2.destroyAllWindows()\n",
        "    return"
      ],
      "execution_count": 0,
      "outputs": []
    },
    {
      "cell_type": "code",
      "metadata": {
        "id": "JqJ3JjpYa2DQ",
        "colab_type": "code",
        "colab": {}
      },
      "source": [
        "# to convert the frames to the videos \n",
        "for i in video:\n",
        "    name = i.split(\".\")[0]\n",
        "    !mkdir 'ODD_'$name\n",
        "    !mkdir 'EVEN_'$name\n",
        "    evenframe('/content/drive/My Drive/PROJECT_DATA/top_5_classes/thursday/'+i,\"EVEN_\"+name+\"/\")\n",
        "    oddframe('/content/drive/My Drive/PROJECT_DATA/top_5_classes/thursday/'+i,\"ODD_\"+name+\"/\")\n",
        "    new=[]\n",
        "    for i in os.listdir(\"EVEN_\"+name+\"/\"):\n",
        "        new.append(i)\n",
        "    length = len(new)//2\n",
        "    odd= 0\n",
        "    !ffmpeg -framerate $length -pattern_type glob -i 'ODD_'$name'/*.jpg'\\\n",
        "     -c:v libx264  -pix_fmt yuv420p $name'_'$odd'.mp4'\n",
        "    !ffmpeg -framerate $length -pattern_type glob -i 'EVEN_'$name'/*.jpg'\\\n",
        "      -c:v libx264  -pix_fmt yuv420p $name'.mp4'\n",
        "    try:\n",
        "        shutil.rmtree('ODD_'+name)\n",
        "        shutil.rmtree('EVEN_'+name)\n",
        "        print(\"Directory Removed!!!\")\n",
        "    except:\n",
        "        print(\"No directory Found!!!!\")\n"
      ],
      "execution_count": 0,
      "outputs": []
    },
    {
      "cell_type": "code",
      "metadata": {
        "id": "obAaThlNbYMz",
        "colab_type": "code",
        "colab": {}
      },
      "source": [
        "destdir = \"/content/test/\"\n",
        "conv=[]\n",
        "for file in os.listdir('/content/'):\n",
        "  if file.endswith(\".mp4\"):\n",
        "    conv.append(file)\n",
        "'''video path from / content to drive'''\n",
        "import shutil\n",
        "for i in conv:   \n",
        "  shutil.copy(i, destdir+i)\n",
        "print('Done...')\n",
        "len(conv)"
      ],
      "execution_count": 0,
      "outputs": []
    },
    {
      "cell_type": "code",
      "metadata": {
        "id": "z67UqT7Nnwnx",
        "colab_type": "code",
        "colab": {}
      },
      "source": [
        "import os\n",
        "import sys\n",
        "j=1\n",
        "path = '/content/test/'\n",
        "files = os.listdir(path)\n",
        "for file in files:\n",
        "    os.rename(os.path.join(path, file), os.path.join(path, 'THURSDAY-' + str(j) + '.mp4'))\n",
        "    j+=1"
      ],
      "execution_count": 0,
      "outputs": []
    },
    {
      "cell_type": "code",
      "metadata": {
        "id": "45VWVN1TbFxp",
        "colab_type": "code",
        "colab": {}
      },
      "source": [
        "c=[]\n",
        "for file in os.listdir('/content/test/'):\n",
        "  if file.endswith(\".mp4\"):\n",
        "    c.append(file)\n",
        "len(c)"
      ],
      "execution_count": 0,
      "outputs": []
    },
    {
      "cell_type": "code",
      "metadata": {
        "id": "00n7CrxR42QY",
        "colab_type": "code",
        "colab": {}
      },
      "source": [
        "# s='/content/test/'\n",
        "# files = os.listdir(s)\n",
        "# for i in files:\n",
        "#     os.rename(s+i,s+i.replace('-', ''))"
      ],
      "execution_count": 0,
      "outputs": []
    },
    {
      "cell_type": "code",
      "metadata": {
        "id": "EEHif1OsJClq",
        "colab_type": "code",
        "colab": {}
      },
      "source": [
        ""
      ],
      "execution_count": 0,
      "outputs": []
    }
  ]
}