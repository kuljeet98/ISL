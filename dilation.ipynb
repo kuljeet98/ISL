{
 "cells": [
  {
   "cell_type": "markdown",
   "metadata": {},
   "source": [
    "### Dilation on dataset(videos)"
   ]
  },
  {
   "cell_type": "code",
   "execution_count": null,
   "metadata": {},
   "outputs": [],
   "source": [
    "#importing libraries\n",
    "import cv2\n",
    "import os\n",
    "import numpy as np\n",
    "import shutil"
   ]
  },
  {
   "cell_type": "code",
   "execution_count": null,
   "metadata": {},
   "outputs": [],
   "source": [
    "#chechking the total videos in the directory\n",
    "video=[]\n",
    "for i in os.listdir('f/'):\n",
    "        video.append(i)\n",
    "print(len(video))"
   ]
  },
  {
   "cell_type": "code",
   "execution_count": null,
   "metadata": {},
   "outputs": [],
   "source": [
    "# function to split the videos into frames in a directory\n",
    "def frame(vp, ip):\n",
    "    cap= cv2.VideoCapture(vp)\n",
    "    i=1\n",
    "    while(cap.isOpened()):\n",
    "        ret, frame = cap.read()\n",
    "        if ret == False:\n",
    "            break\n",
    "        if i%1 == 0: # to pick even frames\n",
    "            cv2.imwrite(ip+'IMG_'+str(i)+'.jpg',frame)\n",
    "        i+=1\n",
    "    cap.release()\n",
    "    cv2.destroyAllWindows()\n",
    "    return"
   ]
  },
  {
   "cell_type": "code",
   "execution_count": null,
   "metadata": {},
   "outputs": [],
   "source": [
    "for i in video:\n",
    "    name = i.split(\".\")[0]\n",
    "    !mkdir $name'_'\n",
    "    frame('f/'+i,name+\"_/\")\n",
    "    new=[]\n",
    "    for i in os.listdir(name+\"_/\"): #to apply the morphological operation on the frames \n",
    "        img = cv2.imread(name+\"_/\"+i) \n",
    "        kernel = np.ones((5,5), np.uint8)  \n",
    "        dil = cv2.dilate(img, kernel, iterations=1) # dilation is applied on the frames\n",
    "        cv2.imwrite(name+\"_/\"+i, dil)\n",
    "        new.append(i)\n",
    "    length = len(new)//2\n",
    "    !ffmpeg -framerate $length -pattern_type glob -i $name'_/*.jpg'\\ \n",
    "     -c:v libx264  -pix_fmt yuv420p $name'-.mp4'  #!ffmpleg used to convert the frames to video\n",
    "    !ffmpeg -i $name'-.mp4' -vf \"scale=2*iw:-1, crop=iw/2:ih/1\" $name'_zoom_.mp4' # to zoom the above video\n",
    "    try:\n",
    "        shutil.rmtree(name+'_')\n",
    "        !rm $name'-.mp4'\n",
    "        print(\"All Removed!!!\")\n",
    "    except:\n",
    "        print(\"Not Found!!!!\")\n"
   ]
  },
  {
   "cell_type": "code",
   "execution_count": null,
   "metadata": {},
   "outputs": [],
   "source": []
  }
 ],
 "metadata": {
  "kernelspec": {
   "display_name": "Python 3",
   "language": "python",
   "name": "python3"
  },
  "language_info": {
   "codemirror_mode": {
    "name": "ipython",
    "version": 3
   },
   "file_extension": ".py",
   "mimetype": "text/x-python",
   "name": "python",
   "nbconvert_exporter": "python",
   "pygments_lexer": "ipython3",
   "version": "3.6.9"
  }
 },
 "nbformat": 4,
 "nbformat_minor": 4
}
