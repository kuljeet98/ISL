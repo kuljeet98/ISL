{
  "nbformat": 4,
  "nbformat_minor": 0,
  "metadata": {
    "colab": {
      "name": "Renaming_files.ipynb",
      "provenance": [],
      "collapsed_sections": []
    },
    "kernelspec": {
      "name": "python3",
      "display_name": "Python 3"
    },
    "accelerator": "GPU"
  },
  "cells": [
    {
      "cell_type": "code",
      "metadata": {
        "id": "_leJ1YPvgipT",
        "colab_type": "code",
        "colab": {}
      },
      "source": [
        "import os"
      ],
      "execution_count": 0,
      "outputs": []
    },
    {
      "cell_type": "markdown",
      "metadata": {
        "id": "XtcESa4yhYPA",
        "colab_type": "text"
      },
      "source": [
        "## Renaming Friday"
      ]
    },
    {
      "cell_type": "code",
      "metadata": {
        "id": "wWFhi9_Jgntd",
        "colab_type": "code",
        "colab": {}
      },
      "source": [
        "count = 0\n",
        "for video in os.listdir('/content/drive/My Drive/PROJECT_DATA/Hands_only_OpenPose/friday/'):\n",
        "  if video.endswith('.mp4'):\n",
        "    count+=1\n",
        "    os.rename('/content/drive/My Drive/PROJECT_DATA/Hands_only_OpenPose/friday/'+video,'/content/drive/My Drive/PROJECT_DATA/Hands_only_OpenPose/friday/'+'Friday_'+str(count)+\".mp4\")"
      ],
      "execution_count": 0,
      "outputs": []
    },
    {
      "cell_type": "markdown",
      "metadata": {
        "id": "QpIxClQewPx9",
        "colab_type": "text"
      },
      "source": [
        "## Renaming Saturday\n"
      ]
    },
    {
      "cell_type": "code",
      "metadata": {
        "id": "v3e5mRUqkZm8",
        "colab_type": "code",
        "colab": {}
      },
      "source": [
        "count = 0\n",
        "for video in os.listdir('/content/drive/My Drive/PROJECT_DATA/Hands_only_OpenPose/saturday/'):\n",
        "  if video.endswith('.mp4'):\n",
        "    count+=1\n",
        "    os.rename('/content/drive/My Drive/PROJECT_DATA/Hands_only_OpenPose/saturday/'+video,'/content/drive/My Drive/PROJECT_DATA/Hands_only_OpenPose/saturday/'+'Saturday_'+str(count)+\".mp4\")"
      ],
      "execution_count": 0,
      "outputs": []
    },
    {
      "cell_type": "markdown",
      "metadata": {
        "id": "cDlJOPBowSOm",
        "colab_type": "text"
      },
      "source": [
        "## Renaming Sunday"
      ]
    },
    {
      "cell_type": "code",
      "metadata": {
        "id": "lNhfLfP4kkoR",
        "colab_type": "code",
        "colab": {}
      },
      "source": [
        "count = 0\n",
        "for video in os.listdir('/content/drive/My Drive/PROJECT_DATA/Hands_only_OpenPose/sunday/'):\n",
        "  if video.endswith('.mp4'):\n",
        "    count+=1\n",
        "    os.rename('/content/drive/My Drive/PROJECT_DATA/Hands_only_OpenPose/sunday/'+video,'/content/drive/My Drive/PROJECT_DATA/Hands_only_OpenPose/sunday/'+'Sunday_'+str(count)+\".mp4\")"
      ],
      "execution_count": 0,
      "outputs": []
    },
    {
      "cell_type": "markdown",
      "metadata": {
        "id": "70o1_LtbwUBN",
        "colab_type": "text"
      },
      "source": [
        "## Renaming Monday\n"
      ]
    },
    {
      "cell_type": "code",
      "metadata": {
        "id": "Uje55nwZk1Xn",
        "colab_type": "code",
        "colab": {}
      },
      "source": [
        "count = 0\n",
        "for video in os.listdir('/content/drive/My Drive/PROJECT_DATA/Hands_only_OpenPose/monday/'):\n",
        "  if video.endswith('.mp4'):\n",
        "    count+=1\n",
        "    os.rename('/content/drive/My Drive/PROJECT_DATA/Hands_only_OpenPose/monday/'+video,'/content/drive/My Drive/PROJECT_DATA/Hands_only_OpenPose/monday/'+'Monday_'+str(count)+\".mp4\")"
      ],
      "execution_count": 0,
      "outputs": []
    },
    {
      "cell_type": "code",
      "metadata": {
        "id": "x4Ipm7haqYCQ",
        "colab_type": "code",
        "colab": {
          "base_uri": "https://localhost:8080/",
          "height": 34
        },
        "outputId": "2fbdcea0-4685-4a09-8d97-2df1b9b92735"
      },
      "source": [
        "count"
      ],
      "execution_count": 24,
      "outputs": [
        {
          "output_type": "execute_result",
          "data": {
            "text/plain": [
              "95"
            ]
          },
          "metadata": {
            "tags": []
          },
          "execution_count": 24
        }
      ]
    },
    {
      "cell_type": "markdown",
      "metadata": {
        "id": "dxbTOS6nwWsC",
        "colab_type": "text"
      },
      "source": [
        "## Renaming Tuesday\n",
        "\n"
      ]
    },
    {
      "cell_type": "code",
      "metadata": {
        "id": "HdKhHhiuo9aB",
        "colab_type": "code",
        "colab": {}
      },
      "source": [
        "count = 0\n",
        "for video in os.listdir('/content/drive/My Drive/PROJECT_DATA/Hands_only_OpenPose/tuesday/'):\n",
        "  if video.endswith('.mp4'):\n",
        "    count+=1\n",
        "    os.rename('/content/drive/My Drive/PROJECT_DATA/Hands_only_OpenPose/tuesday/'+video,'/content/drive/My Drive/PROJECT_DATA/Hands_only_OpenPose/tuesday/'+'Tuesday_'+str(count)+\".mp4\")"
      ],
      "execution_count": 0,
      "outputs": []
    },
    {
      "cell_type": "code",
      "metadata": {
        "id": "QQkBFE17qZu4",
        "colab_type": "code",
        "colab": {
          "base_uri": "https://localhost:8080/",
          "height": 34
        },
        "outputId": "8912fbca-0fa5-4e19-98de-5c8ea9e61694"
      },
      "source": [
        "count"
      ],
      "execution_count": 26,
      "outputs": [
        {
          "output_type": "execute_result",
          "data": {
            "text/plain": [
              "86"
            ]
          },
          "metadata": {
            "tags": []
          },
          "execution_count": 26
        }
      ]
    },
    {
      "cell_type": "markdown",
      "metadata": {
        "id": "m-vU1hSEwZBv",
        "colab_type": "text"
      },
      "source": [
        "## Renaming Wednesday"
      ]
    },
    {
      "cell_type": "code",
      "metadata": {
        "id": "H7kAzZz4qAUm",
        "colab_type": "code",
        "colab": {}
      },
      "source": [
        "count = 0\n",
        "for video in os.listdir('/content/drive/My Drive/PROJECT_DATA/Hands_only_OpenPose/wednesday/'):\n",
        "  if video.endswith('.mp4'):\n",
        "    count+=1\n",
        "    os.rename('/content/drive/My Drive/PROJECT_DATA/Hands_only_OpenPose/wednesday/'+video,'/content/drive/My Drive/PROJECT_DATA/Hands_only_OpenPose/wednesday/'+'Wednesday_'+str(count)+\".mp4\")"
      ],
      "execution_count": 0,
      "outputs": []
    },
    {
      "cell_type": "code",
      "metadata": {
        "id": "xjC63Ta1qajw",
        "colab_type": "code",
        "colab": {
          "base_uri": "https://localhost:8080/",
          "height": 34
        },
        "outputId": "a1554e8b-feb6-4d3a-9901-bee8942057ec"
      },
      "source": [
        "count"
      ],
      "execution_count": 28,
      "outputs": [
        {
          "output_type": "execute_result",
          "data": {
            "text/plain": [
              "58"
            ]
          },
          "metadata": {
            "tags": []
          },
          "execution_count": 28
        }
      ]
    },
    {
      "cell_type": "markdown",
      "metadata": {
        "id": "JqI1xtvHwbtN",
        "colab_type": "text"
      },
      "source": [
        "## Renaming Thursday"
      ]
    },
    {
      "cell_type": "code",
      "metadata": {
        "id": "bk0imttAqKII",
        "colab_type": "code",
        "colab": {}
      },
      "source": [
        "count = 0\n",
        "for video in os.listdir('/content/drive/My Drive/PROJECT_DATA/Hands_only_OpenPose/thursday/'):\n",
        "  if video.endswith('.mp4'):\n",
        "    count+=1\n",
        "    os.rename('/content/drive/My Drive/PROJECT_DATA/Hands_only_OpenPose/thursday/'+video,'/content/drive/My Drive/PROJECT_DATA/Hands_only_OpenPose/thursday/'+'Thursday_'+str(count)+\".mp4\")"
      ],
      "execution_count": 0,
      "outputs": []
    },
    {
      "cell_type": "code",
      "metadata": {
        "id": "Ip5oDIvFqbTa",
        "colab_type": "code",
        "colab": {
          "base_uri": "https://localhost:8080/",
          "height": 34
        },
        "outputId": "e2c7c9ab-45da-414a-8088-bffa080c58e7"
      },
      "source": [
        "count"
      ],
      "execution_count": 30,
      "outputs": [
        {
          "output_type": "execute_result",
          "data": {
            "text/plain": [
              "61"
            ]
          },
          "metadata": {
            "tags": []
          },
          "execution_count": 30
        }
      ]
    },
    {
      "cell_type": "code",
      "metadata": {
        "id": "wFrTr3Q5qog1",
        "colab_type": "code",
        "colab": {}
      },
      "source": [
        ""
      ],
      "execution_count": 0,
      "outputs": []
    }
  ]
}