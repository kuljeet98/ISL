{
 "cells": [
  {
   "cell_type": "markdown",
   "metadata": {
    "colab_type": "text",
    "id": "Uh3DIR8X6lPk"
   },
   "source": [
    "#### Indian sign laguages (CNN + RNN)"
   ]
  },
  {
   "cell_type": "code",
   "execution_count": 1,
   "metadata": {
    "colab": {
     "base_uri": "https://localhost:8080/",
     "height": 343
    },
    "colab_type": "code",
    "id": "dn3xyUAZ22wp",
    "outputId": "3b822a16-32d3-4f3b-96c9-148444680d03"
   },
   "outputs": [
    {
     "data": {
      "text/plain": [
       "' keras video genrator for data augmentation of the video'"
      ]
     },
     "execution_count": 1,
     "metadata": {},
     "output_type": "execute_result"
    }
   ],
   "source": [
    "''' keras video genrator for data augmentation of the video'''\n",
    "!pip install keras-video-generators\n",
    "%tensorflow_version 1.x\n",
    "import tensorflow as tf\n",
    "print(tf.__version__)"
   ]
  },
  {
   "cell_type": "code",
   "execution_count": 2,
   "metadata": {
    "colab": {
     "base_uri": "https://localhost:8080/",
     "height": 34
    },
    "colab_type": "code",
    "id": "RCI3L7zkr6Hu",
    "outputId": "ce9fdcdd-c9ac-43c8-c77e-7894cc853279"
   },
   "outputs": [
    {
     "name": "stdout",
     "output_type": "stream",
     "text": [
      "/content/drive/My Drive/PROJECT_DATA\n"
     ]
    }
   ],
   "source": [
    "%cd /content/drive/My Drive/PROJECT_DATA"
   ]
  },
  {
   "cell_type": "code",
   "execution_count": 3,
   "metadata": {
    "colab": {
     "base_uri": "https://localhost:8080/",
     "height": 34
    },
    "colab_type": "code",
    "id": "PB3Zas2w4Jab",
    "outputId": "b46c2c4b-ecef-4caa-8516-edf9d9dd7716"
   },
   "outputs": [
    {
     "name": "stderr",
     "output_type": "stream",
     "text": [
      "Using TensorFlow backend.\n"
     ]
    }
   ],
   "source": [
    "'''importing libraries'''\n",
    "import os\n",
    "import sys\n",
    "import glob\n",
    "import numpy as np\n",
    "import pandas as pd\n",
    "import keras\n",
    "import matplotlib.pyplot as plt\n",
    "import seaborn as sns\n",
    "import cv2\n",
    "from PIL import Image\n",
    "from keras_video import VideoFrameGenerator"
   ]
  },
  {
   "cell_type": "code",
   "execution_count": 4,
   "metadata": {
    "colab": {
     "base_uri": "https://localhost:8080/",
     "height": 153
    },
    "colab_type": "code",
    "id": "DmNtSMOUZkHo",
    "outputId": "05f19ebb-34fd-4ec3-92a7-ae4891e6fa2f"
   },
   "outputs": [
    {
     "name": "stdout",
     "output_type": "stream",
     "text": [
      "class friday, validation count: 61, train count: 143\n",
      "class monday, validation count: 69, train count: 161\n",
      "class saturday, validation count: 61, train count: 145\n",
      "class sunday, validation count: 69, train count: 162\n",
      "class thursday, validation count: 61, train count: 143\n",
      "class tuesday, validation count: 79, train count: 185\n",
      "class wednesday, validation count: 63, train count: 148\n",
      "Total data: 7 classes for 1087 files for train\n"
     ]
    }
   ],
   "source": [
    "from keras_video import VideoFrameGenerator\n",
    "# use sub directories names as classes\n",
    "classes = [i.split(os.path.sep)[1] for i in glob.glob('hands_only_zoomed/*')]\n",
    "classes.sort()\n",
    "# some global params\n",
    "SIZE = (112, 112)\n",
    "CHANNELS = 3\n",
    "NBFRAME = 8\n",
    "BS = 8\n",
    "# pattern to get videos and classes\n",
    "glob_pattern='hands_only_zoomed/{classname}/*.mp4'\n",
    "# for data augmentation\n",
    "data_aug = keras.preprocessing.image.ImageDataGenerator(\n",
    "    zoom_range=.7)\n",
    "    # horizontal_flip=True,\n",
    "    # rotation_range=8,\n",
    "    # width_shift_range=.2,\n",
    "    # height_shift/_range=.2)\n",
    "# Create video frame generator\n",
    "train = VideoFrameGenerator(\n",
    "    classes=classes, \n",
    "    glob_pattern=glob_pattern,\n",
    "    nb_frames=NBFRAME,\n",
    "    split_val=.3, \n",
    "    shuffle=True,\n",
    "    batch_size=BS,\n",
    "    target_shape=SIZE,\n",
    "    nb_channel=CHANNELS,\n",
    "    transformation=data_aug,\n",
    "    use_frame_cache=False)"
   ]
  },
  {
   "cell_type": "code",
   "execution_count": 5,
   "metadata": {
    "colab": {
     "base_uri": "https://localhost:8080/",
     "height": 34
    },
    "colab_type": "code",
    "id": "AaX9FiPasiWu",
    "outputId": "a48c2796-4e3c-4f5b-afd8-adc0b47eef75"
   },
   "outputs": [
    {
     "name": "stdout",
     "output_type": "stream",
     "text": [
      "Total data: 7 classes for 463 files for validation\n"
     ]
    }
   ],
   "source": [
    "valid = train.get_validation_generator()"
   ]
  },
  {
   "cell_type": "code",
   "execution_count": 0,
   "metadata": {
    "colab": {},
    "colab_type": "code",
    "id": "g7_0wsMsupg6"
   },
   "outputs": [],
   "source": [
    "# import keras_video.utils\n",
    "# keras_video.utils.show_sample(train)"
   ]
  },
  {
   "cell_type": "code",
   "execution_count": 0,
   "metadata": {
    "colab": {},
    "colab_type": "code",
    "id": "_4xVo0sC9Ie8"
   },
   "outputs": [],
   "source": [
    "from keras.models import Sequential\n",
    "from keras.layers import Dense\n",
    "from keras.layers import Flatten\n",
    "from keras.layers import Dropout\n",
    "from keras.layers import LSTM\n",
    "from keras.layers import TimeDistributed\n",
    "from keras.layers import ConvLSTM2D\n",
    "from keras.utils import to_categorical"
   ]
  },
  {
   "cell_type": "code",
   "execution_count": 9,
   "metadata": {
    "colab": {
     "base_uri": "https://localhost:8080/",
     "height": 323
    },
    "colab_type": "code",
    "id": "4b0fZp9V1gAr",
    "outputId": "ca6831d6-d433-4237-bc58-7997359b6498"
   },
   "outputs": [
    {
     "name": "stdout",
     "output_type": "stream",
     "text": [
      "Model: \"sequential_3\"\n",
      "_________________________________________________________________\n",
      "Layer (type)                 Output Shape              Param #   \n",
      "=================================================================\n",
      "conv_lst_m2d_3 (ConvLSTM2D)  (None, 112, 110, 64)      51712     \n",
      "_________________________________________________________________\n",
      "dropout_3 (Dropout)          (None, 112, 110, 64)      0         \n",
      "_________________________________________________________________\n",
      "flatten_3 (Flatten)          (None, 788480)            0         \n",
      "_________________________________________________________________\n",
      "dense_5 (Dense)              (None, 100)               78848100  \n",
      "_________________________________________________________________\n",
      "dense_6 (Dense)              (None, 7)                 707       \n",
      "=================================================================\n",
      "Total params: 78,900,519\n",
      "Trainable params: 78,900,519\n",
      "Non-trainable params: 0\n",
      "_________________________________________________________________\n"
     ]
    }
   ],
   "source": [
    "model = Sequential()\n",
    "model.add(ConvLSTM2D(filters=64, kernel_size=(1,3), activation='relu', input_shape=(8, 112,112,3)))\n",
    "model.add(Dropout(0.3))\n",
    "model.add(Flatten())\n",
    "model.add(Dense(100, activation='relu'))\n",
    "# model.add(Dropout(0.5))\n",
    "model.add(Dense(7, activation='softmax'))\n",
    "model.summary()"
   ]
  },
  {
   "cell_type": "code",
   "execution_count": 0,
   "metadata": {
    "colab": {},
    "colab_type": "code",
    "id": "LVEtjZ09_abA"
   },
   "outputs": [],
   "source": [
    "from sklearn.utils import class_weight\n",
    "def get_weight(y):\n",
    "    class_weight_current =  class_weight.compute_class_weight('balanced', np.unique(y), y)\n",
    "    return class_weight_current"
   ]
  },
  {
   "cell_type": "code",
   "execution_count": 0,
   "metadata": {
    "colab": {},
    "colab_type": "code",
    "id": "84CwcNFVHFt_"
   },
   "outputs": [],
   "source": [
    "# to check the class balancing requred ??\n",
    "class_weight = get_weight(train.classes)\n",
    "class_weight"
   ]
  },
  {
   "cell_type": "code",
   "execution_count": 10,
   "metadata": {
    "colab": {
     "base_uri": "https://localhost:8080/",
     "height": 105
    },
    "colab_type": "code",
    "id": "a2hy95o6_h4q",
    "outputId": "ec183de1-8acc-4a26-ad82-df465c5a2800"
   },
   "outputs": [
    {
     "name": "stdout",
     "output_type": "stream",
     "text": [
      "WARNING:tensorflow:From /usr/local/lib/python3.6/dist-packages/keras/optimizers.py:793: The name tf.train.Optimizer is deprecated. Please use tf.compat.v1.train.Optimizer instead.\n",
      "\n",
      "WARNING:tensorflow:From /usr/local/lib/python3.6/dist-packages/keras/backend/tensorflow_backend.py:3576: The name tf.log is deprecated. Please use tf.math.log instead.\n",
      "\n"
     ]
    }
   ],
   "source": [
    "from keras.optimizers import Adam\n",
    "model.compile(loss='categorical_crossentropy',\n",
    "              optimizer=Adam(0.001),metrics=['accuracy'])"
   ]
  },
  {
   "cell_type": "code",
   "execution_count": 0,
   "metadata": {
    "colab": {},
    "colab_type": "code",
    "id": "XpFlYQ9O2-uE"
   },
   "outputs": [],
   "source": [
    "# callbacks used in the model training part.....\n",
    "from keras.callbacks import ModelCheckpoint, ReduceLROnPlateau,EarlyStopping\n",
    "filepath=\"/content/drive/My Drive/Models/final.hdf5\" # to save the best weights tot eh path\n",
    "checkpoint = ModelCheckpoint(filepath, monitor='val_loss',save_best_only=True, verbose=1)\n",
    "reduce_on_plateau = ReduceLROnPlateau(monitor=\"val_loss\", mode=\"min\", factor=0.1, patience=4, verbose=1)\n",
    "early_stopping = EarlyStopping( monitor='val_loss',patience=10,verbose=1,restore_best_weights=True)\n",
    "callbacks_list = [checkpoint, reduce_on_plateau, early_stopping]"
   ]
  },
  {
   "cell_type": "code",
   "execution_count": 12,
   "metadata": {
    "colab": {
     "base_uri": "https://localhost:8080/",
     "height": 1000
    },
    "colab_type": "code",
    "id": "-WXiymue3R_e",
    "outputId": "f1bcd565-4ac4-41e9-b6c0-a9bc167cde17"
   },
   "outputs": [
    {
     "name": "stdout",
     "output_type": "stream",
     "text": [
      "WARNING:tensorflow:From /tensorflow-1.15.2/python3.6/tensorflow_core/python/ops/math_grad.py:1424: where (from tensorflow.python.ops.array_ops) is deprecated and will be removed in a future version.\n",
      "Instructions for updating:\n",
      "Use tf.where in 2.0, which has the same broadcast rule as np.where\n",
      "WARNING:tensorflow:From /usr/local/lib/python3.6/dist-packages/keras/backend/tensorflow_backend.py:1033: The name tf.assign_add is deprecated. Please use tf.compat.v1.assign_add instead.\n",
      "\n",
      "WARNING:tensorflow:From /usr/local/lib/python3.6/dist-packages/keras/backend/tensorflow_backend.py:1020: The name tf.assign is deprecated. Please use tf.compat.v1.assign instead.\n",
      "\n",
      "WARNING:tensorflow:From /usr/local/lib/python3.6/dist-packages/keras/backend/tensorflow_backend.py:3005: The name tf.Session is deprecated. Please use tf.compat.v1.Session instead.\n",
      "\n",
      "Epoch 1/20\n",
      "WARNING:tensorflow:From /usr/local/lib/python3.6/dist-packages/keras/backend/tensorflow_backend.py:190: The name tf.get_default_session is deprecated. Please use tf.compat.v1.get_default_session instead.\n",
      "\n",
      "WARNING:tensorflow:From /usr/local/lib/python3.6/dist-packages/keras/backend/tensorflow_backend.py:197: The name tf.ConfigProto is deprecated. Please use tf.compat.v1.ConfigProto instead.\n",
      "\n",
      "WARNING:tensorflow:From /usr/local/lib/python3.6/dist-packages/keras/backend/tensorflow_backend.py:207: The name tf.global_variables is deprecated. Please use tf.compat.v1.global_variables instead.\n",
      "\n",
      "WARNING:tensorflow:From /usr/local/lib/python3.6/dist-packages/keras/backend/tensorflow_backend.py:216: The name tf.is_variable_initialized is deprecated. Please use tf.compat.v1.is_variable_initialized instead.\n",
      "\n",
      "WARNING:tensorflow:From /usr/local/lib/python3.6/dist-packages/keras/backend/tensorflow_backend.py:223: The name tf.variables_initializer is deprecated. Please use tf.compat.v1.variables_initializer instead.\n",
      "\n",
      "113/135 [========================>.....] - ETA: 1:21 - loss: 1.8001 - acc: 0.3086"
     ]
    },
    {
     "name": "stderr",
     "output_type": "stream",
     "text": [
      "Frame count is not OK for video hands_only_zoomed/sunday/SUNDAY_2.mp4, 5 total, 5 extracted\n"
     ]
    },
    {
     "name": "stdout",
     "output_type": "stream",
     "text": [
      "124/135 [==========================>...] - ETA: 40s - loss: 1.7866 - acc: 0.3180"
     ]
    },
    {
     "name": "stderr",
     "output_type": "stream",
     "text": [
      "Frame count is not OK for video hands_only_zoomed/sunday/SUNDAY_150.mp4, 6 total, 6 extracted\n"
     ]
    },
    {
     "name": "stdout",
     "output_type": "stream",
     "text": [
      "134/135 [============================>.] - ETA: 3s - loss: 1.7791 - acc: 0.3190"
     ]
    },
    {
     "name": "stderr",
     "output_type": "stream",
     "text": [
      "Frame count is not OK for video hands_only_zoomed/thursday/THURSDAY157.mp4, 6 total, 6 extracted\n",
      "Frame count is not OK for video hands_only_zoomed/thursday/THURSDAY32.mp4, 7 total, 7 extracted\n"
     ]
    },
    {
     "name": "stdout",
     "output_type": "stream",
     "text": [
      "\b\b\b\b\b\b\b\b\b\b\b\b\b\b\b\b\b\b\b\b\b\b\b\b\b\b\b\b\b\b\b\b\b\b\b\b\b\b\b\b\b\b\b\b\b\b\b\b\b\b\b\b\b\b\b\b\b\b\b\b\b\b\b\b\b\b\b\b\b\b\b\b\b\b\b\b\b\b\b\r",
      "135/135 [==============================] - 684s 5s/step - loss: 1.7767 - acc: 0.3213 - val_loss: 1.5293 - val_acc: 0.3855\n",
      "\n",
      "Epoch 00001: val_loss improved from inf to 1.52929, saving model to /content/drive/My Drive/Models/final.hdf5\n"
     ]
    },
    {
     "name": "stderr",
     "output_type": "stream",
     "text": [
      "Frame count is not OK for video hands_only_zoomed/sunday/SUNDAY_2.mp4, 5 total, 5 extracted\n"
     ]
    },
    {
     "name": "stdout",
     "output_type": "stream",
     "text": [
      "Epoch 2/20\n",
      "113/135 [========================>.....] - ETA: 7s - loss: 1.5633 - acc: 0.4343"
     ]
    },
    {
     "name": "stderr",
     "output_type": "stream",
     "text": [
      "Frame count is not OK for video hands_only_zoomed/sunday/SUNDAY_150.mp4, 6 total, 6 extracted\n"
     ]
    },
    {
     "name": "stdout",
     "output_type": "stream",
     "text": [
      "134/135 [============================>.] - ETA: 0s - loss: 1.5385 - acc: 0.4386"
     ]
    },
    {
     "name": "stderr",
     "output_type": "stream",
     "text": [
      "Frame count is not OK for video hands_only_zoomed/thursday/THURSDAY157.mp4, 6 total, 6 extracted\n",
      "Frame count is not OK for video hands_only_zoomed/thursday/THURSDAY32.mp4, 7 total, 7 extracted\n"
     ]
    },
    {
     "name": "stdout",
     "output_type": "stream",
     "text": [
      "\b\b\b\b\b\b\b\b\b\b\b\b\b\b\b\b\b\b\b\b\b\b\b\b\b\b\b\b\b\b\b\b\b\b\b\b\b\b\b\b\b\b\b\b\b\b\b\b\b\b\b\b\b\b\b\b\b\b\b\b\b\b\b\b\b\b\b\b\b\b\b\b\b\b\b\b\b\b\b\r",
      "135/135 [==============================] - 54s 397ms/step - loss: 1.5333 - acc: 0.4399 - val_loss: 1.2084 - val_acc: 0.5727\n",
      "\n",
      "Epoch 00002: val_loss improved from 1.52929 to 1.20841, saving model to /content/drive/My Drive/Models/final.hdf5\n",
      "Epoch 3/20\n",
      " 80/135 [================>.............] - ETA: 18s - loss: 1.3632 - acc: 0.5266"
     ]
    },
    {
     "name": "stderr",
     "output_type": "stream",
     "text": [
      "Frame count is not OK for video hands_only_zoomed/sunday/SUNDAY_150.mp4, 6 total, 6 extracted\n"
     ]
    },
    {
     "name": "stdout",
     "output_type": "stream",
     "text": [
      "127/135 [===========================>..] - ETA: 2s - loss: 1.3316 - acc: 0.5288"
     ]
    },
    {
     "name": "stderr",
     "output_type": "stream",
     "text": [
      "Frame count is not OK for video hands_only_zoomed/sunday/SUNDAY_2.mp4, 5 total, 5 extracted\n"
     ]
    },
    {
     "name": "stdout",
     "output_type": "stream",
     "text": [
      "134/135 [============================>.] - ETA: 0s - loss: 1.3178 - acc: 0.5337"
     ]
    },
    {
     "name": "stderr",
     "output_type": "stream",
     "text": [
      "Frame count is not OK for video hands_only_zoomed/thursday/THURSDAY32.mp4, 7 total, 7 extracted\n",
      "Frame count is not OK for video hands_only_zoomed/thursday/THURSDAY157.mp4, 6 total, 6 extracted\n"
     ]
    },
    {
     "name": "stdout",
     "output_type": "stream",
     "text": [
      "\b\b\b\b\b\b\b\b\b\b\b\b\b\b\b\b\b\b\b\b\b\b\b\b\b\b\b\b\b\b\b\b\b\b\b\b\b\b\b\b\b\b\b\b\b\b\b\b\b\b\b\b\b\b\b\b\b\b\b\b\b\b\b\b\b\b\b\b\b\b\b\b\b\b\b\b\b\b\b\r",
      "135/135 [==============================] - 51s 375ms/step - loss: 1.3212 - acc: 0.5316 - val_loss: 1.3344 - val_acc: 0.5507\n",
      "\n",
      "Epoch 00003: val_loss did not improve from 1.20841\n",
      "Epoch 4/20\n",
      " 74/135 [===============>..............] - ETA: 19s - loss: 1.1714 - acc: 0.6149"
     ]
    },
    {
     "name": "stderr",
     "output_type": "stream",
     "text": [
      "Frame count is not OK for video hands_only_zoomed/sunday/SUNDAY_2.mp4, 5 total, 5 extracted\n"
     ]
    },
    {
     "name": "stdout",
     "output_type": "stream",
     "text": [
      "101/135 [=====================>........] - ETA: 11s - loss: 1.1538 - acc: 0.6179"
     ]
    },
    {
     "name": "stderr",
     "output_type": "stream",
     "text": [
      "Frame count is not OK for video hands_only_zoomed/sunday/SUNDAY_150.mp4, 6 total, 6 extracted\n"
     ]
    },
    {
     "name": "stdout",
     "output_type": "stream",
     "text": [
      "134/135 [============================>.] - ETA: 0s - loss: 1.1340 - acc: 0.6223"
     ]
    },
    {
     "name": "stderr",
     "output_type": "stream",
     "text": [
      "Frame count is not OK for video hands_only_zoomed/thursday/THURSDAY32.mp4, 7 total, 7 extracted\n",
      "Frame count is not OK for video hands_only_zoomed/thursday/THURSDAY157.mp4, 6 total, 6 extracted\n"
     ]
    },
    {
     "name": "stdout",
     "output_type": "stream",
     "text": [
      "\b\b\b\b\b\b\b\b\b\b\b\b\b\b\b\b\b\b\b\b\b\b\b\b\b\b\b\b\b\b\b\b\b\b\b\b\b\b\b\b\b\b\b\b\b\b\b\b\b\b\b\b\b\b\b\b\b\b\b\b\b\b\b\b\b\b\b\b\b\b\b\b\b\b\b\b\b\b\b\r",
      "135/135 [==============================] - 49s 360ms/step - loss: 1.1359 - acc: 0.6224 - val_loss: 1.0391 - val_acc: 0.6608\n",
      "\n",
      "Epoch 00004: val_loss improved from 1.20841 to 1.03908, saving model to /content/drive/My Drive/Models/final.hdf5\n",
      "Epoch 5/20\n",
      "  6/135 [>.............................] - ETA: 42s - loss: 1.1612 - acc: 0.6458"
     ]
    },
    {
     "name": "stderr",
     "output_type": "stream",
     "text": [
      "Frame count is not OK for video hands_only_zoomed/sunday/SUNDAY_150.mp4, 6 total, 6 extracted\n"
     ]
    },
    {
     "name": "stdout",
     "output_type": "stream",
     "text": [
      " 82/135 [=================>............] - ETA: 17s - loss: 1.0604 - acc: 0.6583"
     ]
    },
    {
     "name": "stderr",
     "output_type": "stream",
     "text": [
      "Frame count is not OK for video hands_only_zoomed/sunday/SUNDAY_2.mp4, 5 total, 5 extracted\n"
     ]
    },
    {
     "name": "stdout",
     "output_type": "stream",
     "text": [
      "134/135 [============================>.] - ETA: 0s - loss: 1.0534 - acc: 0.6526"
     ]
    },
    {
     "name": "stderr",
     "output_type": "stream",
     "text": [
      "Frame count is not OK for video hands_only_zoomed/thursday/THURSDAY157.mp4, 6 total, 6 extracted\n",
      "Frame count is not OK for video hands_only_zoomed/thursday/THURSDAY32.mp4, 7 total, 7 extracted\n"
     ]
    },
    {
     "name": "stdout",
     "output_type": "stream",
     "text": [
      "\b\b\b\b\b\b\b\b\b\b\b\b\b\b\b\b\b\b\b\b\b\b\b\b\b\b\b\b\b\b\b\b\b\b\b\b\b\b\b\b\b\b\b\b\b\b\b\b\b\b\b\b\b\b\b\b\b\b\b\b\b\b\b\b\b\b\b\b\b\b\b\b\b\b\b\b\b\b\b\r",
      "135/135 [==============================] - 49s 363ms/step - loss: 1.0542 - acc: 0.6515 - val_loss: 0.8484 - val_acc: 0.6982\n",
      "\n",
      "Epoch 00005: val_loss improved from 1.03908 to 0.84845, saving model to /content/drive/My Drive/Models/final.hdf5\n",
      "Epoch 6/20\n",
      " 48/135 [=========>....................] - ETA: 29s - loss: 1.0006 - acc: 0.6615"
     ]
    },
    {
     "name": "stderr",
     "output_type": "stream",
     "text": [
      "Frame count is not OK for video hands_only_zoomed/sunday/SUNDAY_2.mp4, 5 total, 5 extracted\n"
     ]
    },
    {
     "name": "stdout",
     "output_type": "stream",
     "text": [
      "101/135 [=====================>........] - ETA: 11s - loss: 0.9648 - acc: 0.6719"
     ]
    },
    {
     "name": "stderr",
     "output_type": "stream",
     "text": [
      "Frame count is not OK for video hands_only_zoomed/sunday/SUNDAY_150.mp4, 6 total, 6 extracted\n"
     ]
    },
    {
     "name": "stdout",
     "output_type": "stream",
     "text": [
      "134/135 [============================>.] - ETA: 0s - loss: 0.9284 - acc: 0.6874"
     ]
    },
    {
     "name": "stderr",
     "output_type": "stream",
     "text": [
      "Frame count is not OK for video hands_only_zoomed/thursday/THURSDAY32.mp4, 7 total, 7 extracted\n",
      "Frame count is not OK for video hands_only_zoomed/thursday/THURSDAY157.mp4, 6 total, 6 extracted\n"
     ]
    },
    {
     "name": "stdout",
     "output_type": "stream",
     "text": [
      "\b\b\b\b\b\b\b\b\b\b\b\b\b\b\b\b\b\b\b\b\b\b\b\b\b\b\b\b\b\b\b\b\b\b\b\b\b\b\b\b\b\b\b\b\b\b\b\b\b\b\b\b\b\b\b\b\b\b\b\b\b\b\b\b\b\b\b\b\b\b\b\b\b\b\b\b\b\b\b\r",
      "135/135 [==============================] - 49s 364ms/step - loss: 0.9337 - acc: 0.6850 - val_loss: 0.8440 - val_acc: 0.6982\n",
      "\n",
      "Epoch 00006: val_loss improved from 0.84845 to 0.84402, saving model to /content/drive/My Drive/Models/final.hdf5\n",
      "Epoch 7/20\n",
      " 17/135 [==>...........................] - ETA: 39s - loss: 0.7667 - acc: 0.7353"
     ]
    },
    {
     "name": "stderr",
     "output_type": "stream",
     "text": [
      "Frame count is not OK for video hands_only_zoomed/sunday/SUNDAY_2.mp4, 5 total, 5 extracted\n"
     ]
    },
    {
     "name": "stdout",
     "output_type": "stream",
     "text": [
      " 89/135 [==================>...........] - ETA: 15s - loss: 0.8637 - acc: 0.7030"
     ]
    },
    {
     "name": "stderr",
     "output_type": "stream",
     "text": [
      "Frame count is not OK for video hands_only_zoomed/sunday/SUNDAY_150.mp4, 6 total, 6 extracted\n"
     ]
    },
    {
     "name": "stdout",
     "output_type": "stream",
     "text": [
      "134/135 [============================>.] - ETA: 0s - loss: 0.8683 - acc: 0.7036"
     ]
    },
    {
     "name": "stderr",
     "output_type": "stream",
     "text": [
      "Frame count is not OK for video hands_only_zoomed/thursday/THURSDAY32.mp4, 7 total, 7 extracted\n",
      "Frame count is not OK for video hands_only_zoomed/thursday/THURSDAY157.mp4, 6 total, 6 extracted\n"
     ]
    },
    {
     "name": "stdout",
     "output_type": "stream",
     "text": [
      "\b\b\b\b\b\b\b\b\b\b\b\b\b\b\b\b\b\b\b\b\b\b\b\b\b\b\b\b\b\b\b\b\b\b\b\b\b\b\b\b\b\b\b\b\b\b\b\b\b\b\b\b\b\b\b\b\b\b\b\b\b\b\b\b\b\b\b\b\b\b\b\b\b\b\b\b\b\b\b\r",
      "135/135 [==============================] - 49s 363ms/step - loss: 0.8678 - acc: 0.7049 - val_loss: 0.7515 - val_acc: 0.7401\n",
      "\n",
      "Epoch 00007: val_loss improved from 0.84402 to 0.75153, saving model to /content/drive/My Drive/Models/final.hdf5\n",
      "Epoch 8/20\n",
      "129/135 [===========================>..] - ETA: 1s - loss: 0.8202 - acc: 0.7200"
     ]
    },
    {
     "name": "stderr",
     "output_type": "stream",
     "text": [
      "Frame count is not OK for video hands_only_zoomed/sunday/SUNDAY_2.mp4, 5 total, 5 extracted\n"
     ]
    },
    {
     "name": "stdout",
     "output_type": "stream",
     "text": [
      "131/135 [============================>.] - ETA: 1s - loss: 0.8276 - acc: 0.7193"
     ]
    },
    {
     "name": "stderr",
     "output_type": "stream",
     "text": [
      "Frame count is not OK for video hands_only_zoomed/sunday/SUNDAY_150.mp4, 6 total, 6 extracted\n"
     ]
    },
    {
     "name": "stdout",
     "output_type": "stream",
     "text": [
      "134/135 [============================>.] - ETA: 0s - loss: 0.8227 - acc: 0.7205"
     ]
    },
    {
     "name": "stderr",
     "output_type": "stream",
     "text": [
      "Frame count is not OK for video hands_only_zoomed/thursday/THURSDAY32.mp4, 7 total, 7 extracted\n",
      "Frame count is not OK for video hands_only_zoomed/thursday/THURSDAY157.mp4, 6 total, 6 extracted\n"
     ]
    },
    {
     "name": "stdout",
     "output_type": "stream",
     "text": [
      "\b\b\b\b\b\b\b\b\b\b\b\b\b\b\b\b\b\b\b\b\b\b\b\b\b\b\b\b\b\b\b\b\b\b\b\b\b\b\b\b\b\b\b\b\b\b\b\b\b\b\b\b\b\b\b\b\b\b\b\b\b\b\b\b\b\b\b\b\b\b\b\b\b\b\b\b\b\b\b\r",
      "135/135 [==============================] - 49s 363ms/step - loss: 0.8214 - acc: 0.7208 - val_loss: 0.7829 - val_acc: 0.7423\n",
      "\n",
      "Epoch 00008: val_loss did not improve from 0.75153\n",
      "Epoch 9/20\n",
      "  3/135 [..............................] - ETA: 43s - loss: 0.8734 - acc: 0.7083"
     ]
    },
    {
     "name": "stderr",
     "output_type": "stream",
     "text": [
      "Frame count is not OK for video hands_only_zoomed/sunday/SUNDAY_2.mp4, 5 total, 5 extracted\n"
     ]
    },
    {
     "name": "stdout",
     "output_type": "stream",
     "text": [
      " 93/135 [===================>..........] - ETA: 13s - loss: 0.7937 - acc: 0.7458"
     ]
    },
    {
     "name": "stderr",
     "output_type": "stream",
     "text": [
      "Frame count is not OK for video hands_only_zoomed/sunday/SUNDAY_150.mp4, 6 total, 6 extracted\n"
     ]
    },
    {
     "name": "stdout",
     "output_type": "stream",
     "text": [
      "134/135 [============================>.] - ETA: 0s - loss: 0.7816 - acc: 0.7536"
     ]
    },
    {
     "name": "stderr",
     "output_type": "stream",
     "text": [
      "Frame count is not OK for video hands_only_zoomed/thursday/THURSDAY32.mp4, 7 total, 7 extracted\n",
      "Frame count is not OK for video hands_only_zoomed/thursday/THURSDAY157.mp4, 6 total, 6 extracted\n"
     ]
    },
    {
     "name": "stdout",
     "output_type": "stream",
     "text": [
      "\b\b\b\b\b\b\b\b\b\b\b\b\b\b\b\b\b\b\b\b\b\b\b\b\b\b\b\b\b\b\b\b\b\b\b\b\b\b\b\b\b\b\b\b\b\b\b\b\b\b\b\b\b\b\b\b\b\b\b\b\b\b\b\b\b\b\b\b\b\b\b\b\b\b\b\b\b\b\b\r",
      "135/135 [==============================] - 49s 360ms/step - loss: 0.7792 - acc: 0.7545 - val_loss: 0.7161 - val_acc: 0.7643\n",
      "\n",
      "Epoch 00009: val_loss improved from 0.75153 to 0.71608, saving model to /content/drive/My Drive/Models/final.hdf5\n",
      "Epoch 10/20\n",
      " 68/135 [==============>...............] - ETA: 22s - loss: 0.7135 - acc: 0.7665"
     ]
    },
    {
     "name": "stderr",
     "output_type": "stream",
     "text": [
      "Frame count is not OK for video hands_only_zoomed/sunday/SUNDAY_150.mp4, 6 total, 6 extracted\n"
     ]
    },
    {
     "name": "stdout",
     "output_type": "stream",
     "text": [
      "107/135 [======================>.......] - ETA: 9s - loss: 0.7143 - acc: 0.7672"
     ]
    },
    {
     "name": "stderr",
     "output_type": "stream",
     "text": [
      "Frame count is not OK for video hands_only_zoomed/sunday/SUNDAY_2.mp4, 5 total, 5 extracted\n"
     ]
    },
    {
     "name": "stdout",
     "output_type": "stream",
     "text": [
      "134/135 [============================>.] - ETA: 0s - loss: 0.7013 - acc: 0.7671"
     ]
    },
    {
     "name": "stderr",
     "output_type": "stream",
     "text": [
      "Frame count is not OK for video hands_only_zoomed/thursday/THURSDAY32.mp4, 7 total, 7 extracted\n"
     ]
    },
    {
     "name": "stdout",
     "output_type": "stream",
     "text": [
      "\b\b\b\b\b\b\b\b\b\b\b\b\b\b\b\b\b\b\b\b\b\b\b\b\b\b\b\b\b\b\b\b\b\b\b\b\b\b\b\b\b\b\b\b\b\b\b\b\b\b\b\b\b\b\b\b\b\b\b\b\b\b\b\b\b\b\b\b\b\b\b\b\b\b\b\b\b\b\b\r",
      "135/135 [==============================] - 49s 362ms/step - loss: 0.6992 - acc: 0.7688 - val_loss: 0.6706 - val_acc: 0.7670\n",
      "\n",
      "Epoch 00010: val_loss improved from 0.71608 to 0.67064, saving model to /content/drive/My Drive/Models/final.hdf5\n",
      "Epoch 11/20\n",
      " 18/135 [===>..........................] - ETA: 38s - loss: 0.7075 - acc: 0.7500"
     ]
    },
    {
     "name": "stderr",
     "output_type": "stream",
     "text": [
      "Frame count is not OK for video hands_only_zoomed/sunday/SUNDAY_150.mp4, 6 total, 6 extracted\n"
     ]
    },
    {
     "name": "stdout",
     "output_type": "stream",
     "text": [
      " 65/135 [=============>................] - ETA: 26s - loss: 0.6197 - acc: 0.7808"
     ]
    },
    {
     "name": "stderr",
     "output_type": "stream",
     "text": [
      "Frame count is not OK for video hands_only_zoomed/sunday/SUNDAY_2.mp4, 5 total, 5 extracted\n"
     ]
    },
    {
     "name": "stdout",
     "output_type": "stream",
     "text": [
      "134/135 [============================>.] - ETA: 0s - loss: 0.6513 - acc: 0.7704"
     ]
    },
    {
     "name": "stderr",
     "output_type": "stream",
     "text": [
      "Frame count is not OK for video hands_only_zoomed/thursday/THURSDAY157.mp4, 6 total, 6 extracted\n",
      "Frame count is not OK for video hands_only_zoomed/thursday/THURSDAY32.mp4, 7 total, 7 extracted\n"
     ]
    },
    {
     "name": "stdout",
     "output_type": "stream",
     "text": [
      "\b\b\b\b\b\b\b\b\b\b\b\b\b\b\b\b\b\b\b\b\b\b\b\b\b\b\b\b\b\b\b\b\b\b\b\b\b\b\b\b\b\b\b\b\b\b\b\b\b\b\b\b\b\b\b\b\b\b\b\b\b\b\b\b\b\b\b\b\b\b\b\b\b\b\b\b\b\b\b\r",
      "135/135 [==============================] - 52s 385ms/step - loss: 0.6495 - acc: 0.7721 - val_loss: 0.6510 - val_acc: 0.8062\n",
      "\n",
      "Epoch 00011: val_loss improved from 0.67064 to 0.65100, saving model to /content/drive/My Drive/Models/final.hdf5\n",
      "Epoch 12/20\n",
      " 60/135 [============>.................] - ETA: 25s - loss: 0.5808 - acc: 0.8146"
     ]
    },
    {
     "name": "stderr",
     "output_type": "stream",
     "text": [
      "Frame count is not OK for video hands_only_zoomed/sunday/SUNDAY_150.mp4, 6 total, 6 extracted\n"
     ]
    },
    {
     "name": "stdout",
     "output_type": "stream",
     "text": [
      "120/135 [=========================>....] - ETA: 4s - loss: 0.6188 - acc: 0.7967"
     ]
    },
    {
     "name": "stderr",
     "output_type": "stream",
     "text": [
      "Frame count is not OK for video hands_only_zoomed/sunday/SUNDAY_2.mp4, 5 total, 5 extracted\n"
     ]
    },
    {
     "name": "stdout",
     "output_type": "stream",
     "text": [
      "134/135 [============================>.] - ETA: 0s - loss: 0.6318 - acc: 0.7916"
     ]
    },
    {
     "name": "stderr",
     "output_type": "stream",
     "text": [
      "Frame count is not OK for video hands_only_zoomed/thursday/THURSDAY157.mp4, 6 total, 6 extracted\n",
      "Frame count is not OK for video hands_only_zoomed/thursday/THURSDAY32.mp4, 7 total, 7 extracted\n"
     ]
    },
    {
     "name": "stdout",
     "output_type": "stream",
     "text": [
      "\b\b\b\b\b\b\b\b\b\b\b\b\b\b\b\b\b\b\b\b\b\b\b\b\b\b\b\b\b\b\b\b\b\b\b\b\b\b\b\b\b\b\b\b\b\b\b\b\b\b\b\b\b\b\b\b\b\b\b\b\b\b\b\b\b\b\b\b\b\b\b\b\b\b\b\b\b\b\b\r",
      "135/135 [==============================] - 49s 363ms/step - loss: 0.6306 - acc: 0.7922 - val_loss: 0.6334 - val_acc: 0.7996\n",
      "\n",
      "Epoch 00012: val_loss improved from 0.65100 to 0.63339, saving model to /content/drive/My Drive/Models/final.hdf5\n",
      "Epoch 13/20\n",
      " 54/135 [===========>..................] - ETA: 27s - loss: 0.5360 - acc: 0.8333"
     ]
    },
    {
     "name": "stderr",
     "output_type": "stream",
     "text": [
      "Frame count is not OK for video hands_only_zoomed/sunday/SUNDAY_2.mp4, 5 total, 5 extracted\n"
     ]
    },
    {
     "name": "stdout",
     "output_type": "stream",
     "text": [
      " 72/135 [===============>..............] - ETA: 21s - loss: 0.5610 - acc: 0.8346"
     ]
    },
    {
     "name": "stderr",
     "output_type": "stream",
     "text": [
      "Frame count is not OK for video hands_only_zoomed/sunday/SUNDAY_150.mp4, 6 total, 6 extracted\n"
     ]
    },
    {
     "name": "stdout",
     "output_type": "stream",
     "text": [
      "134/135 [============================>.] - ETA: 0s - loss: 0.5747 - acc: 0.8288"
     ]
    },
    {
     "name": "stderr",
     "output_type": "stream",
     "text": [
      "Frame count is not OK for video hands_only_zoomed/thursday/THURSDAY32.mp4, 7 total, 7 extracted\n",
      "Frame count is not OK for video hands_only_zoomed/thursday/THURSDAY157.mp4, 6 total, 6 extracted\n"
     ]
    },
    {
     "name": "stdout",
     "output_type": "stream",
     "text": [
      "\b\b\b\b\b\b\b\b\b\b\b\b\b\b\b\b\b\b\b\b\b\b\b\b\b\b\b\b\b\b\b\b\b\b\b\b\b\b\b\b\b\b\b\b\b\b\b\b\b\b\b\b\b\b\b\b\b\b\b\b\b\b\b\b\b\b\b\b\b\b\b\b\b\b\b\b\b\b\b\r",
      "135/135 [==============================] - 49s 362ms/step - loss: 0.5794 - acc: 0.8273 - val_loss: 0.6890 - val_acc: 0.7974\n",
      "\n",
      "Epoch 00013: val_loss did not improve from 0.63339\n",
      "Epoch 14/20\n",
      "  5/135 [>.............................] - ETA: 42s - loss: 0.4054 - acc: 0.8750"
     ]
    },
    {
     "name": "stderr",
     "output_type": "stream",
     "text": [
      "Frame count is not OK for video hands_only_zoomed/sunday/SUNDAY_150.mp4, 6 total, 6 extracted\n"
     ]
    },
    {
     "name": "stdout",
     "output_type": "stream",
     "text": [
      "111/135 [=======================>......] - ETA: 7s - loss: 0.5673 - acc: 0.8131"
     ]
    },
    {
     "name": "stderr",
     "output_type": "stream",
     "text": [
      "Frame count is not OK for video hands_only_zoomed/sunday/SUNDAY_2.mp4, 5 total, 5 extracted\n"
     ]
    },
    {
     "name": "stdout",
     "output_type": "stream",
     "text": [
      "134/135 [============================>.] - ETA: 0s - loss: 0.5725 - acc: 0.8088"
     ]
    },
    {
     "name": "stderr",
     "output_type": "stream",
     "text": [
      "Frame count is not OK for video hands_only_zoomed/thursday/THURSDAY32.mp4, 7 total, 7 extracted\n",
      "Frame count is not OK for video hands_only_zoomed/thursday/THURSDAY157.mp4, 6 total, 6 extracted\n"
     ]
    },
    {
     "name": "stdout",
     "output_type": "stream",
     "text": [
      "\b\b\b\b\b\b\b\b\b\b\b\b\b\b\b\b\b\b\b\b\b\b\b\b\b\b\b\b\b\b\b\b\b\b\b\b\b\b\b\b\b\b\b\b\b\b\b\b\b\b\b\b\b\b\b\b\b\b\b\b\b\b\b\b\b\b\b\b\b\b\b\b\b\b\b\b\b\b\b\r",
      "135/135 [==============================] - 49s 360ms/step - loss: 0.5748 - acc: 0.8083 - val_loss: 0.6129 - val_acc: 0.8128\n",
      "\n",
      "Epoch 00014: val_loss improved from 0.63339 to 0.61292, saving model to /content/drive/My Drive/Models/final.hdf5\n",
      "Epoch 15/20\n",
      " 58/135 [===========>..................] - ETA: 25s - loss: 0.5768 - acc: 0.8147"
     ]
    },
    {
     "name": "stderr",
     "output_type": "stream",
     "text": [
      "Frame count is not OK for video hands_only_zoomed/sunday/SUNDAY_2.mp4, 5 total, 5 extracted\n"
     ]
    },
    {
     "name": "stdout",
     "output_type": "stream",
     "text": [
      "108/135 [=======================>......] - ETA: 8s - loss: 0.5811 - acc: 0.8100"
     ]
    },
    {
     "name": "stderr",
     "output_type": "stream",
     "text": [
      "Frame count is not OK for video hands_only_zoomed/sunday/SUNDAY_150.mp4, 6 total, 6 extracted\n"
     ]
    },
    {
     "name": "stdout",
     "output_type": "stream",
     "text": [
      "134/135 [============================>.] - ETA: 0s - loss: 0.5631 - acc: 0.8158"
     ]
    },
    {
     "name": "stderr",
     "output_type": "stream",
     "text": [
      "Frame count is not OK for video hands_only_zoomed/thursday/THURSDAY157.mp4, 6 total, 6 extracted\n",
      "Frame count is not OK for video hands_only_zoomed/thursday/THURSDAY32.mp4, 7 total, 7 extracted\n"
     ]
    },
    {
     "name": "stdout",
     "output_type": "stream",
     "text": [
      "\b\b\b\b\b\b\b\b\b\b\b\b\b\b\b\b\b\b\b\b\b\b\b\b\b\b\b\b\b\b\b\b\b\b\b\b\b\b\b\b\b\b\b\b\b\b\b\b\b\b\b\b\b\b\b\b\b\b\b\b\b\b\b\b\b\b\b\b\b\b\b\b\b\b\b\b\b\b\b\r",
      "135/135 [==============================] - 49s 362ms/step - loss: 0.5632 - acc: 0.8163 - val_loss: 0.5347 - val_acc: 0.8128\n",
      "\n",
      "Epoch 00015: val_loss improved from 0.61292 to 0.53474, saving model to /content/drive/My Drive/Models/final.hdf5\n",
      "Epoch 16/20\n",
      " 69/135 [==============>...............] - ETA: 22s - loss: 0.5572 - acc: 0.8297"
     ]
    },
    {
     "name": "stderr",
     "output_type": "stream",
     "text": [
      "Frame count is not OK for video hands_only_zoomed/sunday/SUNDAY_2.mp4, 5 total, 5 extracted\n"
     ]
    },
    {
     "name": "stdout",
     "output_type": "stream",
     "text": [
      "111/135 [=======================>......] - ETA: 7s - loss: 0.5345 - acc: 0.8412"
     ]
    },
    {
     "name": "stderr",
     "output_type": "stream",
     "text": [
      "Frame count is not OK for video hands_only_zoomed/sunday/SUNDAY_150.mp4, 6 total, 6 extracted\n"
     ]
    },
    {
     "name": "stdout",
     "output_type": "stream",
     "text": [
      "134/135 [============================>.] - ETA: 0s - loss: 0.5443 - acc: 0.8374"
     ]
    },
    {
     "name": "stderr",
     "output_type": "stream",
     "text": [
      "Frame count is not OK for video hands_only_zoomed/thursday/THURSDAY157.mp4, 6 total, 6 extracted\n",
      "Frame count is not OK for video hands_only_zoomed/thursday/THURSDAY32.mp4, 7 total, 7 extracted\n"
     ]
    },
    {
     "name": "stdout",
     "output_type": "stream",
     "text": [
      "\b\b\b\b\b\b\b\b\b\b\b\b\b\b\b\b\b\b\b\b\b\b\b\b\b\b\b\b\b\b\b\b\b\b\b\b\b\b\b\b\b\b\b\b\b\b\b\b\b\b\b\b\b\b\b\b\b\b\b\b\b\b\b\b\b\b\b\b\b\b\b\b\b\b\b\b\b\b\b\r",
      "135/135 [==============================] - 49s 364ms/step - loss: 0.5465 - acc: 0.8358 - val_loss: 0.5993 - val_acc: 0.8084\n",
      "\n",
      "Epoch 00016: val_loss did not improve from 0.53474\n",
      "Epoch 17/20\n",
      "  2/135 [..............................] - ETA: 43s - loss: 0.3332 - acc: 0.8750"
     ]
    },
    {
     "name": "stderr",
     "output_type": "stream",
     "text": [
      "Frame count is not OK for video hands_only_zoomed/sunday/SUNDAY_2.mp4, 5 total, 5 extracted\n"
     ]
    },
    {
     "name": "stdout",
     "output_type": "stream",
     "text": [
      " 86/135 [==================>...........] - ETA: 16s - loss: 0.4959 - acc: 0.8472"
     ]
    },
    {
     "name": "stderr",
     "output_type": "stream",
     "text": [
      "Frame count is not OK for video hands_only_zoomed/sunday/SUNDAY_150.mp4, 6 total, 6 extracted\n"
     ]
    },
    {
     "name": "stdout",
     "output_type": "stream",
     "text": [
      "134/135 [============================>.] - ETA: 0s - loss: 0.4880 - acc: 0.8437"
     ]
    },
    {
     "name": "stderr",
     "output_type": "stream",
     "text": [
      "Frame count is not OK for video hands_only_zoomed/thursday/THURSDAY32.mp4, 7 total, 7 extracted\n",
      "Frame count is not OK for video hands_only_zoomed/thursday/THURSDAY157.mp4, 6 total, 6 extracted\n"
     ]
    },
    {
     "name": "stdout",
     "output_type": "stream",
     "text": [
      "\b\b\b\b\b\b\b\b\b\b\b\b\b\b\b\b\b\b\b\b\b\b\b\b\b\b\b\b\b\b\b\b\b\b\b\b\b\b\b\b\b\b\b\b\b\b\b\b\b\b\b\b\b\b\b\b\b\b\b\b\b\b\b\b\b\b\b\b\b\b\b\b\b\b\b\b\b\b\b\r",
      "135/135 [==============================] - 49s 361ms/step - loss: 0.4858 - acc: 0.8448 - val_loss: 0.8703 - val_acc: 0.7665\n",
      "\n",
      "Epoch 00017: val_loss did not improve from 0.53474\n",
      "Epoch 18/20\n",
      " 58/135 [===========>..................] - ETA: 25s - loss: 0.5582 - acc: 0.8297"
     ]
    },
    {
     "name": "stderr",
     "output_type": "stream",
     "text": [
      "Frame count is not OK for video hands_only_zoomed/sunday/SUNDAY_150.mp4, 6 total, 6 extracted\n"
     ]
    },
    {
     "name": "stdout",
     "output_type": "stream",
     "text": [
      " 65/135 [=============>................] - ETA: 23s - loss: 0.5450 - acc: 0.8346"
     ]
    },
    {
     "name": "stderr",
     "output_type": "stream",
     "text": [
      "Frame count is not OK for video hands_only_zoomed/sunday/SUNDAY_2.mp4, 5 total, 5 extracted\n"
     ]
    },
    {
     "name": "stdout",
     "output_type": "stream",
     "text": [
      "134/135 [============================>.] - ETA: 0s - loss: 0.5294 - acc: 0.8320"
     ]
    },
    {
     "name": "stderr",
     "output_type": "stream",
     "text": [
      "Frame count is not OK for video hands_only_zoomed/thursday/THURSDAY32.mp4, 7 total, 7 extracted\n",
      "Frame count is not OK for video hands_only_zoomed/thursday/THURSDAY157.mp4, 6 total, 6 extracted\n"
     ]
    },
    {
     "name": "stdout",
     "output_type": "stream",
     "text": [
      "\b\b\b\b\b\b\b\b\b\b\b\b\b\b\b\b\b\b\b\b\b\b\b\b\b\b\b\b\b\b\b\b\b\b\b\b\b\b\b\b\b\b\b\b\b\b\b\b\b\b\b\b\b\b\b\b\b\b\b\b\b\b\b\b\b\b\b\b\b\b\b\b\b\b\b\b\b\b\b\r",
      "135/135 [==============================] - 49s 360ms/step - loss: 0.5268 - acc: 0.8323 - val_loss: 0.6083 - val_acc: 0.8282\n",
      "\n",
      "Epoch 00018: val_loss did not improve from 0.53474\n",
      "Epoch 19/20\n",
      " 78/135 [================>.............] - ETA: 18s - loss: 0.4674 - acc: 0.8542"
     ]
    },
    {
     "name": "stderr",
     "output_type": "stream",
     "text": [
      "Frame count is not OK for video hands_only_zoomed/sunday/SUNDAY_2.mp4, 5 total, 5 extracted\n",
      "Frame count is not OK for video hands_only_zoomed/sunday/SUNDAY_150.mp4, 6 total, 6 extracted\n"
     ]
    },
    {
     "name": "stdout",
     "output_type": "stream",
     "text": [
      "134/135 [============================>.] - ETA: 0s - loss: 0.4936 - acc: 0.8535"
     ]
    },
    {
     "name": "stderr",
     "output_type": "stream",
     "text": [
      "Frame count is not OK for video hands_only_zoomed/thursday/THURSDAY157.mp4, 6 total, 6 extracted\n",
      "Frame count is not OK for video hands_only_zoomed/thursday/THURSDAY32.mp4, 7 total, 7 extracted\n"
     ]
    },
    {
     "name": "stdout",
     "output_type": "stream",
     "text": [
      "\b\b\b\b\b\b\b\b\b\b\b\b\b\b\b\b\b\b\b\b\b\b\b\b\b\b\b\b\b\b\b\b\b\b\b\b\b\b\b\b\b\b\b\b\b\b\b\b\b\b\b\b\b\b\b\b\b\b\b\b\b\b\b\b\b\b\b\b\b\b\b\b\b\b\b\b\b\b\b\r",
      "135/135 [==============================] - 49s 360ms/step - loss: 0.4910 - acc: 0.8546 - val_loss: 0.6847 - val_acc: 0.8040\n",
      "\n",
      "Epoch 00019: val_loss did not improve from 0.53474\n",
      "\n",
      "Epoch 00019: ReduceLROnPlateau reducing learning rate to 0.00010000000474974513.\n",
      "Epoch 20/20\n",
      "  4/135 [..............................] - ETA: 42s - loss: 0.5367 - acc: 0.8750"
     ]
    },
    {
     "name": "stderr",
     "output_type": "stream",
     "text": [
      "Frame count is not OK for video hands_only_zoomed/sunday/SUNDAY_2.mp4, 5 total, 5 extracted\n"
     ]
    },
    {
     "name": "stdout",
     "output_type": "stream",
     "text": [
      " 58/135 [===========>..................] - ETA: 25s - loss: 0.4455 - acc: 0.8639"
     ]
    },
    {
     "name": "stderr",
     "output_type": "stream",
     "text": [
      "Frame count is not OK for video hands_only_zoomed/sunday/SUNDAY_150.mp4, 6 total, 6 extracted\n"
     ]
    },
    {
     "name": "stdout",
     "output_type": "stream",
     "text": [
      "134/135 [============================>.] - ETA: 0s - loss: 0.4100 - acc: 0.8805"
     ]
    },
    {
     "name": "stderr",
     "output_type": "stream",
     "text": [
      "Frame count is not OK for video hands_only_zoomed/thursday/THURSDAY157.mp4, 6 total, 6 extracted\n",
      "Frame count is not OK for video hands_only_zoomed/thursday/THURSDAY32.mp4, 7 total, 7 extracted\n"
     ]
    },
    {
     "name": "stdout",
     "output_type": "stream",
     "text": [
      "\b\b\b\b\b\b\b\b\b\b\b\b\b\b\b\b\b\b\b\b\b\b\b\b\b\b\b\b\b\b\b\b\b\b\b\b\b\b\b\b\b\b\b\b\b\b\b\b\b\b\b\b\b\b\b\b\b\b\b\b\b\b\b\b\b\b\b\b\b\b\b\b\b\b\b\b\b\b\b\r",
      "135/135 [==============================] - 49s 362ms/step - loss: 0.4082 - acc: 0.8813 - val_loss: 0.6193 - val_acc: 0.8040\n",
      "\n",
      "Epoch 00020: val_loss did not improve from 0.53474\n"
     ]
    }
   ],
   "source": [
    "# model training\n",
    "history = model.fit_generator(train, epochs=20,\n",
    "                              callbacks=callbacks_list, verbose = 1,\n",
    "                              validation_data = valid,\n",
    "                              workers=-1)"
   ]
  },
  {
   "cell_type": "code",
   "execution_count": 0,
   "metadata": {
    "colab": {},
    "colab_type": "code",
    "id": "1MBWusb23ebB"
   },
   "outputs": [],
   "source": []
  }
 ],
 "metadata": {
  "accelerator": "GPU",
  "colab": {
   "collapsed_sections": [],
   "machine_shape": "hm",
   "name": "CCN+RNN.ipynb",
   "provenance": []
  },
  "kernelspec": {
   "display_name": "Python 3",
   "language": "python",
   "name": "python3"
  },
  "language_info": {
   "codemirror_mode": {
    "name": "ipython",
    "version": 3
   },
   "file_extension": ".py",
   "mimetype": "text/x-python",
   "name": "python",
   "nbconvert_exporter": "python",
   "pygments_lexer": "ipython3",
   "version": "3.6.9"
  }
 },
 "nbformat": 4,
 "nbformat_minor": 1
}
